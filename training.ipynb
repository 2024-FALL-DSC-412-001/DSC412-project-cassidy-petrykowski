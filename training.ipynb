{
 "cells": [
  {
   "cell_type": "code",
   "execution_count": 5,
   "metadata": {},
   "outputs": [],
   "source": [
    "import numpy as np\n",
    "import pandas as pd\n",
    "from sklearn.model_selection import train_test_split"
   ]
  },
  {
   "cell_type": "markdown",
   "metadata": {},
   "source": [
    "### Analysis"
   ]
  },
  {
   "cell_type": "code",
   "execution_count": 6,
   "metadata": {},
   "outputs": [
    {
     "data": {
      "text/plain": [
       "(56, 1)"
      ]
     },
     "execution_count": 6,
     "metadata": {},
     "output_type": "execute_result"
    }
   ],
   "source": [
    "# read csv into dataframe\n",
    "data = pd.read_csv(\"data/patterns.csv\")\n",
    "\n",
    "data.shape\n",
    "\n",
    "# take the sizes of the images\n",
    "\n",
    "# get the average image size"
   ]
  },
  {
   "cell_type": "markdown",
   "metadata": {},
   "source": [
    "### Split the data between training and testing\n",
    "\n",
    "Because the csv contains the names for both the photos and grid, it can be split into one training set and one testing set.\n",
    "\n",
    "When the data is actually accessed, the distinction between inputs and outputs or photos and grids will be made."
   ]
  },
  {
   "cell_type": "code",
   "execution_count": 11,
   "metadata": {},
   "outputs": [
    {
     "name": "stdout",
     "output_type": "stream",
     "text": [
      "    7092f1985d\n",
      "43  edba2a6bbe\n",
      "39  09dbfb528d\n",
      "35  51684b0d4c\n",
      "23  c3cbf850c5\n",
      "45  b1b55738b1\n",
      "10  2666e3c94b\n",
      "22  ef642b8b75\n",
      "18  c3af8775ca\n",
      "55  f9232fe1b3\n",
      "20  95fa1a221a\n",
      "7   113fbb67d4\n",
      "42  2e024bf09e\n",
      "14  1e1bdfb2e7\n",
      "28  df03231a62\n",
      "51  337c0070cc\n",
      "38  7ce54e685d\n"
     ]
    }
   ],
   "source": [
    "train_set, test_set = train_test_split(             data,\n",
    "                                                    test_size=0.7, \n",
    "                                                    random_state=42\n",
    "                                                   )\n",
    "print(train_set)"
   ]
  },
  {
   "cell_type": "markdown",
   "metadata": {},
   "source": [
    "###  DeepKnit\n",
    "\n",
    "Taken from https://github.com/FabianScheidt/deepKnit\n",
    "\n",
    "Experimenting with DeepKnit to understand how it works\n"
   ]
  },
  {
   "cell_type": "code",
   "execution_count": null,
   "metadata": {},
   "outputs": [],
   "source": [
    "# call upon functions used by DeepKnit here?"
   ]
  },
  {
   "cell_type": "markdown",
   "metadata": {},
   "source": [
    "### CNN for image segmentation\n",
    "\n",
    "#### DeepLab\n",
    "\n"
   ]
  }
 ],
 "metadata": {
  "kernelspec": {
   "display_name": ".venv",
   "language": "python",
   "name": "python3"
  },
  "language_info": {
   "codemirror_mode": {
    "name": "ipython",
    "version": 3
   },
   "file_extension": ".py",
   "mimetype": "text/x-python",
   "name": "python",
   "nbconvert_exporter": "python",
   "pygments_lexer": "ipython3",
   "version": "3.10.12"
  }
 },
 "nbformat": 4,
 "nbformat_minor": 2
}
